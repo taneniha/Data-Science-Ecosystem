{
 "cells": [
  {
   "cell_type": "markdown",
   "id": "4dfe855d-1228-423f-bea6-1d98cb5cc934",
   "metadata": {},
   "source": [
    "# Data Science Tools and Ecosystem"
   ]
  },
  {
   "cell_type": "markdown",
   "id": "0d5c9eee-f415-4c3b-a582-a3c7684eda42",
   "metadata": {},
   "source": [
    "In this notebook, Data Science Tools and Ecosystem are summarized."
   ]
  },
  {
   "cell_type": "markdown",
   "id": "3479abdb-1640-4871-b8aa-1e55fc2e5d3e",
   "metadata": {},
   "source": [
    "Some of the popular languages that Data Scientists use are:"
   ]
  },
  {
   "cell_type": "markdown",
   "id": "393e1b87-8c5f-4527-8bee-5f88c54f3564",
   "metadata": {},
   "source": [
    "1. Python\n",
    "2. R\n",
    "3. SQL"
   ]
  },
  {
   "cell_type": "markdown",
   "id": "091bb18d-617a-451f-9469-909c8ffa387c",
   "metadata": {},
   "source": [
    "Some of the commonly used libraries used by Data Scientists include:"
   ]
  },
  {
   "cell_type": "markdown",
   "id": "f05c14d0-1c2e-4203-a4f5-c425b7fb5647",
   "metadata": {},
   "source": [
    "1. NumPy\n",
    "2. Matplotlib\n",
    "3. pandas"
   ]
  },
  {
   "cell_type": "markdown",
   "id": "d750613b-0070-45a0-bf7d-649d5e05538b",
   "metadata": {},
   "source": [
    "| Data Science Tools        |\n",
    "|---------------------------|\n",
    "| Jupyter Notebook          |\n",
    "| RStudio                   |\n",
    "| Apache Zeppelin           |"
   ]
  },
  {
   "cell_type": "markdown",
   "id": "da903e4a-5d85-4da3-829a-a9c63df763cc",
   "metadata": {},
   "source": [
    "### Below are a few examples of evaluating arithmetic expressions in Python"
   ]
  },
  {
   "cell_type": "code",
   "execution_count": 1,
   "id": "c8886828-26db-4b7e-bd06-05551bb3470c",
   "metadata": {},
   "outputs": [
    {
     "data": {
      "text/plain": [
       "17"
      ]
     },
     "execution_count": 1,
     "metadata": {},
     "output_type": "execute_result"
    }
   ],
   "source": [
    "# This is a simple arithmetic expression to multiply then add integers. \n",
    "(3*4)+5"
   ]
  },
  {
   "cell_type": "code",
   "execution_count": 3,
   "id": "d87c90fd-c6e3-4397-89d3-2745a218c75e",
   "metadata": {},
   "outputs": [
    {
     "data": {
      "text/plain": [
       "3.3333333333333335"
      ]
     },
     "execution_count": 3,
     "metadata": {},
     "output_type": "execute_result"
    }
   ],
   "source": [
    "# This will convert 200 minutes to hours by dividing 60.\n",
    "200/60"
   ]
  },
  {
   "cell_type": "markdown",
   "id": "6f019a9f-3b62-4831-a16a-57957a0770b7",
   "metadata": {},
   "source": [
    "**Objectives:**\n",
    "\n",
    "- Popular languages for Data Science  \n",
    "- Commonly used libraries for data scientists\n",
    "- Data Science Tools\n",
    "- Arithmetic expressions in Python "
   ]
  },
  {
   "cell_type": "markdown",
   "id": "699f83b9-9dfb-48f4-b8f8-8b38a6930d38",
   "metadata": {},
   "source": [
    "## Author"
   ]
  },
  {
   "cell_type": "markdown",
   "id": "d23e5e7c-4f15-4eb5-89be-a91b3e145a4e",
   "metadata": {},
   "source": [
    "Ricky"
   ]
  },
  {
   "cell_type": "code",
   "execution_count": null,
   "id": "260291ba-93fe-4124-9b65-836eb0bee53a",
   "metadata": {},
   "outputs": [],
   "source": []
  }
 ],
 "metadata": {
  "kernelspec": {
   "display_name": "Python 3 (ipykernel)",
   "language": "python",
   "name": "python3"
  },
  "language_info": {
   "codemirror_mode": {
    "name": "ipython",
    "version": 3
   },
   "file_extension": ".py",
   "mimetype": "text/x-python",
   "name": "python",
   "nbconvert_exporter": "python",
   "pygments_lexer": "ipython3",
   "version": "3.12.8"
  }
 },
 "nbformat": 4,
 "nbformat_minor": 5
}
